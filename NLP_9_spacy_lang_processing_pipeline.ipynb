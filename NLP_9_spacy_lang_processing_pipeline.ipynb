{
  "cells": [
    {
      "cell_type": "markdown",
      "metadata": {
        "id": "view-in-github",
        "colab_type": "text"
      },
      "source": [
        "<a href=\"https://colab.research.google.com/github/PollyIva/Codebasics_/blob/main/NLP_9_spacy_lang_processing_pipeline.ipynb\" target=\"_parent\"><img src=\"https://colab.research.google.com/assets/colab-badge.svg\" alt=\"Open In Colab\"/></a>"
      ]
    },
    {
      "cell_type": "markdown",
      "metadata": {
        "id": "Yrci22GYhTQP"
      },
      "source": [
        "###                     **Spacy Language Processing Pipelines: Exercises**"
      ]
    },
    {
      "cell_type": "code",
      "execution_count": null,
      "metadata": {
        "id": "YUMPkcohhgam",
        "colab": {
          "base_uri": "https://localhost:8080/"
        },
        "outputId": "a9e8f81a-e7dc-48f9-c455-c5d776b475cc"
      },
      "outputs": [
        {
          "output_type": "stream",
          "name": "stderr",
          "text": [
            "/usr/local/lib/python3.8/dist-packages/torch/cuda/__init__.py:497: UserWarning: Can't initialize NVML\n",
            "  warnings.warn(\"Can't initialize NVML\")\n"
          ]
        }
      ],
      "source": [
        "#importing necessary libraries \n",
        "import spacy\n",
        "\n",
        "nlp = spacy.load(\"en_core_web_sm\")  #creating an object and loading the pre-trained model for \"English\""
      ]
    },
    {
      "cell_type": "markdown",
      "metadata": {
        "id": "hxtliEGIh4gS"
      },
      "source": [
        "#### **Excersie: 1**\n",
        "\n",
        "- Get all the proper nouns from a given text in a list and also count how many of them.\n",
        "- **Proper Noun** means a noun that names a particular person, place, or thing."
      ]
    },
    {
      "cell_type": "code",
      "execution_count": null,
      "metadata": {
        "colab": {
          "base_uri": "https://localhost:8080/"
        },
        "id": "lRGfbeEshFf-",
        "outputId": "03148864-9ae1-45b8-9afc-6b9ff7d62c31"
      },
      "outputs": [
        {
          "output_type": "execute_result",
          "data": {
            "text/plain": [
              "['Rav', 'Raju', 'Paris', 'London', 'Dubai', 'Rome', 'Mohan', 'Hyderabad']"
            ]
          },
          "metadata": {},
          "execution_count": 15
        }
      ],
      "source": [
        "text = '''Rav and Raju are the best friends from school days.They wanted to go for a world tour and \n",
        "visit famous cities like Paris, London, Dubai, Rome etc and also they called their another friend Mohan to take part of this world tour.\n",
        "They started their journey from Hyderabad and spent next 3 months travelling all the wonderful cities in the world and cherish a happy moments!\n",
        "'''\n",
        "\n",
        "# https://spacy.io/usage/linguistic-features\n",
        "proper_noun = []\n",
        "#creating the nlp object\n",
        "doc = nlp(text)   \n",
        "for token in doc:\n",
        "  if token.pos_ =='PROPN': #or  spacy.explain(token.pos_) == 'proper noun'\n",
        "    proper_noun.append(token.text)\n",
        "\n",
        "proper_noun"
      ]
    },
    {
      "cell_type": "code",
      "source": [
        "proper_noun"
      ],
      "metadata": {
        "colab": {
          "base_uri": "https://localhost:8080/"
        },
        "id": "2Er072-3IHMT",
        "outputId": "56ca5d26-31a8-4ad2-f423-45e0e2725f72"
      },
      "execution_count": null,
      "outputs": [
        {
          "output_type": "execute_result",
          "data": {
            "text/plain": [
              "['Raju', 'Paris', 'London', 'Dubai', 'Rome', 'Mohan', 'Hyderabad']"
            ]
          },
          "metadata": {},
          "execution_count": 5
        }
      ]
    },
    {
      "cell_type": "markdown",
      "metadata": {
        "id": "WfU6CRIWhFh8"
      },
      "source": [
        "**Expected Output**\n",
        "\n",
        "Proper Nouns:  [Ravi, Raju, Paris, London, Dubai, Rome, Mohan, Hyderabad]\n",
        "\n",
        "Count:  8\n"
      ]
    },
    {
      "cell_type": "markdown",
      "metadata": {
        "id": "FUr2rnbYmdlv"
      },
      "source": [
        "#### **Excersie: 2**\n",
        "\n",
        "- Get all companies names from a given text and also the count of them.\n",
        "- **Hint**: Use the spacy **ner** functionality "
      ]
    },
    {
      "cell_type": "code",
      "execution_count": null,
      "metadata": {
        "colab": {
          "base_uri": "https://localhost:8080/"
        },
        "id": "LLf4xyGEmZ2P",
        "outputId": "4bce00ba-00b1-4943-fab0-1e8b70ff0f71"
      },
      "outputs": [
        {
          "output_type": "stream",
          "name": "stdout",
          "text": [
            "Company Names:  [Walmart, Amazon, Microsoft, Google, Infosys, Reliance, HDFC Bank, Hindustan Unilever, Bharti Airtel]\n",
            "Count:  9\n"
          ]
        }
      ],
      "source": [
        "text = '''The Top 5 companies in USA are Tesla, Walmart, Amazon, Microsoft, Google and the top 5 companies in \n",
        "India are Infosys, Reliance, HDFC Bank, Hindustan Unilever and Bharti Airtel'''\n",
        "\n",
        "\n",
        "companies = []\n",
        "#creating the nlp object\n",
        "doc = nlp(text)   \n",
        "for ent in doc.ents:\n",
        "  if ent.label_ == 'ORG':     #checking the whether token belongs to entity \"ORG\" [Organisation]\n",
        "    companies.append(ent)\n",
        "\n",
        "\n",
        "\n",
        "print(\"Company Names: \", companies)\n",
        "print(\"Count: \", len(companies))"
      ]
    },
    {
      "cell_type": "markdown",
      "metadata": {
        "id": "4JK5eMsCmZ5i"
      },
      "source": [
        "**Expected Output**\n",
        "\n",
        "\n",
        "Company Names:  [Tesla, Walmart, Amazon, Microsoft, Google, Infosys, Reliance, HDFC Bank, Hindustan Unilever, Bharti Airtel]\n",
        "\n",
        "Count:  10"
      ]
    },
    {
      "cell_type": "markdown",
      "metadata": {
        "id": "HkbNaNVChFoB"
      },
      "source": [
        "## [**Solution**](./language_processing_exercise_solutions.ipynb)"
      ]
    }
  ],
  "metadata": {
    "colab": {
      "provenance": [],
      "include_colab_link": true
    },
    "kernelspec": {
      "display_name": "Python 3 (ipykernel)",
      "language": "python",
      "name": "python3"
    },
    "language_info": {
      "codemirror_mode": {
        "name": "ipython",
        "version": 3
      },
      "file_extension": ".py",
      "mimetype": "text/x-python",
      "name": "python",
      "nbconvert_exporter": "python",
      "pygments_lexer": "ipython3",
      "version": "3.8.10"
    }
  },
  "nbformat": 4,
  "nbformat_minor": 0
}